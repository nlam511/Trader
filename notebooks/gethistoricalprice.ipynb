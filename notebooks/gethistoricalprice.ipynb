{
 "cells": [
  {
   "cell_type": "code",
   "execution_count": 1,
   "metadata": {},
   "outputs": [],
   "source": [
    "import requests"
   ]
  },
  {
   "cell_type": "code",
   "execution_count": 2,
   "metadata": {},
   "outputs": [],
   "source": [
    "def get_historical_prices(symbol: str):\n",
    "    payload = {\n",
    "        'apikey': 'L2EX8ZKLPY0A4DGUEFRPKFPVANSWIGAC',\n",
    "        'periodType': 'day',\n",
    "        'frequencyType': 'minute',\n",
    "        'frequency': '1',\n",
    "        'period': '1',\n",
    "        'startDate':'1586955600000',\n",
    "        'endDate':'1586980800000'\n",
    "    }\n",
    "    \n",
    "    response = requests.get(\n",
    "        url=f'https://api.tdameritrade.com/v1/marketdata/{symbol}/pricehistory',\n",
    "        params=payload\n",
    "    )\n",
    "    \n",
    "    return response.json()"
   ]
  },
  {
   "cell_type": "code",
   "execution_count": 3,
   "metadata": {},
   "outputs": [
    {
     "data": {
      "text/plain": [
       "{'candles': [], 'symbol': 'MNQM20', 'empty': True}"
      ]
     },
     "execution_count": 3,
     "metadata": {},
     "output_type": "execute_result"
    }
   ],
   "source": [
    "data = get_historical_prices('//MNQM20')\n",
    "data"
   ]
  },
  {
   "cell_type": "code",
   "execution_count": null,
   "metadata": {},
   "outputs": [],
   "source": []
  }
 ],
 "metadata": {
  "kernelspec": {
   "display_name": "Python 3",
   "language": "python",
   "name": "python3"
  },
  "language_info": {
   "codemirror_mode": {
    "name": "ipython",
    "version": 3
   },
   "file_extension": ".py",
   "mimetype": "text/x-python",
   "name": "python",
   "nbconvert_exporter": "python",
   "pygments_lexer": "ipython3",
   "version": "3.6.10"
  }
 },
 "nbformat": 4,
 "nbformat_minor": 4
}
